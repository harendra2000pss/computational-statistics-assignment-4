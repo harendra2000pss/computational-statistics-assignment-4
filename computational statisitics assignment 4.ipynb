{
 "cells": [
  {
   "cell_type": "code",
   "execution_count": null,
   "metadata": {},
   "outputs": [],
   "source": []
  },
  {
   "cell_type": "code",
   "execution_count": 10,
   "metadata": {},
   "outputs": [
    {
     "name": "stdout",
     "output_type": "stream",
     "text": [
      "Enter the data you want to enter:5\n",
      "Enter the name,age,height :Tom,23,180\n",
      "Enter the name,age,height :jimmy,34,160\n",
      "Enter the name,age,height :jimmy,33,180\n",
      "Enter the name,age,height :Mayadhar,13,60\n",
      "Enter the name,age,height :natu,45,175\n",
      "[('Mayadhar', '13', '60'), ('Tom', '23', '180'), ('jimmy', '33', '180'), ('jimmy', '34', '160'), ('natu', '45', '175')]\n"
     ]
    }
   ],
   "source": [
    "#Q.2 You are required to write a program to sort the (name,age,height) tuples by ascending order where name\n",
    "# is string,age, and height are numbers, The tuples are input by console. The sort criteria is :\n",
    "# 1: Sort based on name;\n",
    "# 2: Then sort based on age;\n",
    "# 3: Then sort by height;\n",
    "# the priority is that name>age>height. if the following tuples are given as input to the program.\n",
    "from operator import itemgetter\n",
    "noi=int(input('Enter the data you want to enter:'))\n",
    "b=[]\n",
    "for i in range(noi):\n",
    "    a=input('Enter the name,age,height :').split(\",\")\n",
    "    b.append(tuple(a))\n",
    "\n",
    "ab=sorted(b,key=itemgetter(0,1,2))\n",
    "print(ab)"
   ]
  },
  {
   "cell_type": "code",
   "execution_count": 1,
   "metadata": {},
   "outputs": [
    {
     "name": "stdout",
     "output_type": "stream",
     "text": [
      "Enter the string :New to Python or Choosing between Python 2 and Python 3? Read Python 2 or Python 3. Then, the output should be:\n",
      "Enter the character whose count you want to know:Python\n",
      "Python : 5\n"
     ]
    }
   ],
   "source": [
    "#Q.3 Write a program to compute the frequency of the words from the input. The output after should output after sorting the \n",
    "# key alphanumerically\n",
    "\n",
    "\n",
    "str=input('Enter the string :')\n",
    "str_ele=str.split()\n",
    "str_ele.sort()\n",
    "ele=input('Enter the character whose count you want to know:')\n",
    "ele_count=str_ele.count(ele)\n",
    "print(ele,\":\",ele_count)"
   ]
  },
  {
   "cell_type": "code",
   "execution_count": 3,
   "metadata": {},
   "outputs": [
    {
     "name": "stdout",
     "output_type": "stream",
     "text": [
      "Enter the string :H1e2l3l4o5w6o7r8l9d\n",
      "Helloworld\n"
     ]
    }
   ],
   "source": [
    "#Q.4 Please write a program which accepts a atring from console and print the character that have even indexes.\n",
    "#hint : list [::2] to iterate a list by  step 2\n",
    "\n",
    "\n",
    "a=input(\"Enter the string :\")\n",
    "list(a)\n",
    "print(a[::2])"
   ]
  },
  {
   "cell_type": "code",
   "execution_count": 12,
   "metadata": {},
   "outputs": [
    {
     "name": "stdout",
     "output_type": "stream",
     "text": [
      "[12, 24, 35, 88, 120, 155]\n"
     ]
    }
   ],
   "source": [
    "#Q.5 With a given list [12,24,35,24,88,120,155,88,120,155] , write a program to print this list after removing \n",
    "#all duplicate values with original order reserved.\n",
    "#hints:\n",
    "#   use set() to store a number of values without duplicate\n",
    "\n",
    "\n",
    "\n",
    "a=[12,24,35,24,88,120,155,88,120,155]\n",
    "\n",
    "dup=[]\n",
    "not_dup=[]\n",
    "for i in a:\n",
    "    if i not in dup:\n",
    "        not_dup.append(i)\n",
    "        dup.append(i)\n",
    "        \n",
    "print(dup)"
   ]
  },
  {
   "cell_type": "code",
   "execution_count": null,
   "metadata": {},
   "outputs": [],
   "source": []
  }
 ],
 "metadata": {
  "kernelspec": {
   "display_name": "Python 3",
   "language": "python",
   "name": "python3"
  },
  "language_info": {
   "codemirror_mode": {
    "name": "ipython",
    "version": 3
   },
   "file_extension": ".py",
   "mimetype": "text/x-python",
   "name": "python",
   "nbconvert_exporter": "python",
   "pygments_lexer": "ipython3",
   "version": "3.8.3"
  }
 },
 "nbformat": 4,
 "nbformat_minor": 4
}
